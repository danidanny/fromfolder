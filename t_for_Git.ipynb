[33mcommit 225267dad203bac1c4a8e4c192b1524c1e7599ff[m[33m ([m[1;36mHEAD -> [m[1;32mmaster[m[33m)[m
Author: Danil Shabalin <danilsite@yahoo.com>
Date:   Wed Oct 11 12:57:42 2023 +0200

    change name of file

[1mdiff --git "a/test \320\264\320\273\321\217 Git.ipynb" "b/test \320\264\320\273\321\217 Git.ipynb"[m
[1mdeleted file mode 100644[m
[1mindex fcad44e..0000000[m
[1m--- "a/test \320\264\320\273\321\217 Git.ipynb"[m	
[1m+++ /dev/null[m
[36m@@ -1,65 +0,0 @@[m
[31m-{[m
[31m- "cells": [[m
[31m-  {[m
[31m-   "cell_type": "code",[m
[31m-   "execution_count": 2,[m
[31m-   "id": "5926d763",[m
[31m-   "metadata": {},[m
[31m-   "outputs": [[m
[31m-    {[m
[31m-     "ename": "SyntaxError",[m
[31m-     "evalue": "invalid syntax (2830201818.py, line 1)",[m
[31m-     "output_type": "error",[m
[31m-     "traceback": [[m
[31m-      "\u001b[1;36m  Cell \u001b[1;32mIn[2], line 1\u001b[1;36m\u001b[0m\n\u001b[1;33m    git init\u001b[0m\n\u001b[1;37m        ^\u001b[0m\n\u001b[1;31mSyntaxError\u001b[0m\u001b[1;31m:\u001b[0m invalid syntax\n"[m
[31m-     ][m
[31m-    }[m
[31m-   ],[m
[31m-   "source": [[m
[31m-    "git init"[m
[31m-   ][m
[31m-  },[m
[31m-  {[m
[31m-   "cell_type": "code",[m
[31m-   "execution_count": 3,[m
[31m-   "id": "1c0d49cc",[m
[31m-   "metadata": {},[m
[31m-   "outputs": [[m
[31m-    {[m
[31m-     "data": {[m
[31m-      "text/plain": [[m
[31m-       "18"[m
[31m-      ][m
[31m-     },[m
[31m-     "execution_count": 3,[m
[31m-     "metadata": {},[m
[31m-     "output_type": "execute_result"[m
[31m-    }[m
[31m-   ],[m
[31m-   "source": [[m
[31m-    "sum([12,3,3])"[m
[31m-   ][m
[31m-  }[m
[31m- ],[m
[31m- "metadata": {[m
[31m-  "kernelspec": {[m
[31m-   "display_name": "Python 3 (ipykernel)",[m
[31m-   "language": "python",[m
[31m-   "name": "python3"[m
[31m-  },[m
[31m-  "language_info": {[m
[31m-   "codemirror_mode": {[m
[31m-    "name": "ipython",[m
[31m-    "version": 3[m
[31m-   },[m
[31m-   "file_extension": ".py",[m
[31m-   "mimetype": "text/x-python",[m
[31m-   "name": "python",[m
[31m-   "nbconvert_exporter": "python",[m
[31m-   "pygments_lexer": "ipython3",[m
[31m-   "version": "3.11.3"[m
[31m-  }[m
[31m- },[m
[31m- "nbformat": 4,[m
[31m- "nbformat_minor": 5[m
[31m-}[m
